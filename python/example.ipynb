{
 "cells": [
  {
   "cell_type": "code",
   "execution_count": 1,
   "metadata": {},
   "outputs": [],
   "source": [
    "import math\n",
    "import sys\n",
    "import importlib\n",
    "\n",
    "import numpy as np\n",
    "import pandas as pd\n",
    "from IPython import display\n",
    "\n",
    "sys.path.append('C:/Users/Ang/Developer/Projects/NikonTiControl/python')\n",
    "import api"
   ]
  },
  {
   "cell_type": "code",
   "execution_count": 2,
   "metadata": {},
   "outputs": [
    {
     "data": {
      "text/plain": [
       "['/Hamamatsu/BINNING', '/Hamamatsu/BIT PER CHANNEL', '/Hamamatsu/BUFFER FRAMEBYTES', '/Hamamatsu/BUFFER PIXEL TYPE', '/Hamamatsu/BUFFER ROWBYTES', '/Hamamatsu/BUFFER TOP OFFSET BYTES', '/Hamamatsu/COLORTYPE', '/Hamamatsu/CONTRAST GAIN', '/Hamamatsu/CONTRAST OFFSET', '/Hamamatsu/EXPOSURE TIME', '/Hamamatsu/EXPOSURE TIME CONTROL', '/Hamamatsu/FRAME STAMP PRODUCER', '/Hamamatsu/HIGH DYNAMIC RANGE MODE', '/Hamamatsu/IMAGE DETECTOR PIXEL HEIGHT', '/Hamamatsu/IMAGE DETECTOR PIXEL WIDTH', '/Hamamatsu/IMAGE FRAMEBYTES', '/Hamamatsu/IMAGE HEIGHT', '/Hamamatsu/IMAGE PIXEL TYPE', '/Hamamatsu/IMAGE ROWBYTES', '/Hamamatsu/IMAGE TOP OFFSET BYTES', '/Hamamatsu/IMAGE WIDTH', '/Hamamatsu/INTERNAL FRAME INTERVAL', '/Hamamatsu/INTERNAL FRAME RATE', '/Hamamatsu/LIGHT MODE', '/Hamamatsu/NUMBER OF OUTPUT TRIGGER CONNECTOR', '/Hamamatsu/OUTPUT TRIGGER ACTIVE', '/Hamamatsu/OUTPUT TRIGGER DELAY', '/Hamamatsu/OUTPUT TRIGGER PERIOD', '/Hamamatsu/OUTPUT TRIGGER POLARITY', '/Hamamatsu/READOUT SPEED', '/Hamamatsu/RECORD FIXED BYTES PER FILE', '/Hamamatsu/RECORD FIXED BYTES PER FRAME', '/Hamamatsu/RECORD FIXED BYTES PER SESSION', '/Hamamatsu/SENSOR COOLER FAN', '/Hamamatsu/SENSOR MODE', '/Hamamatsu/SUBARRAY HPOS', '/Hamamatsu/SUBARRAY HSIZE', '/Hamamatsu/SUBARRAY MODE', '/Hamamatsu/SUBARRAY VPOS', '/Hamamatsu/SUBARRAY VSIZE', '/Hamamatsu/SYSTEM ALIVE', '/Hamamatsu/TIME STAMP PRODUCER', '/Hamamatsu/TIMING CYCLIC TRIGGER PERIOD', '/Hamamatsu/TIMING EXPOSURE', '/Hamamatsu/TIMING MIN TRIGGER BLANKING', '/Hamamatsu/TIMING MIN TRIGGER INTERVAL', '/Hamamatsu/TIMING READOUT TIME', '/Hamamatsu/TRIGGER ACTIVE', '/Hamamatsu/TRIGGER MODE', '/Hamamatsu/TRIGGER POLARITY', '/Hamamatsu/TRIGGER SOURCE', '/Hamamatsu/TRIGGER TIMES']"
      ]
     },
     "execution_count": 2,
     "metadata": {},
     "output_type": "execute_result"
    }
   ],
   "source": [
    "api.list_property(\"/Hamamatsu\")"
   ]
  },
  {
   "cell_type": "code",
   "execution_count": 3,
   "metadata": {},
   "outputs": [
    {
     "data": {
      "text/plain": [
       "'1x1'"
      ]
     },
     "execution_count": 3,
     "metadata": {},
     "output_type": "execute_result"
    }
   ],
   "source": [
    "api.get_property(\"/Hamamatsu/BINNING\")"
   ]
  },
  {
   "cell_type": "code",
   "execution_count": 4,
   "metadata": {},
   "outputs": [],
   "source": [
    "api.set_property({\"/Hamamatsu/BINNING\": \"2x2\"})"
   ]
  },
  {
   "cell_type": "code",
   "execution_count": 34,
   "metadata": {},
   "outputs": [
    {
     "data": {
      "text/plain": [
       "<module 'api' from 'c:\\\\Users\\\\Ang\\\\Developer\\\\Projects\\\\NikonTiControl\\\\examples\\\\../python\\\\api.py'>"
      ]
     },
     "execution_count": 34,
     "metadata": {},
     "output_type": "execute_result"
    }
   ],
   "source": [
    "importlib.reload(api)"
   ]
  },
  {
   "cell_type": "code",
   "execution_count": 10,
   "metadata": {},
   "outputs": [],
   "source": [
    "api.set_experiment_path(\"D:/Test\")"
   ]
  },
  {
   "cell_type": "code",
   "execution_count": 11,
   "metadata": {},
   "outputs": [],
   "source": [
    "channels = [\n",
    "    (\"BF\", 25),\n",
    "    (\"YFP\", 50, 40),\n",
    "]\n",
    "\n",
    "api.acquire_multi_channel(\"image1\", channels, 0, 0)"
   ]
  },
  {
   "cell_type": "code",
   "execution_count": 82,
   "metadata": {},
   "outputs": [],
   "source": [
    "channels = [\n",
    "    (\"BF\", 25),\n",
    "    (\"YFP\", 50, 40),\n",
    "    (\"RFP\", 50, 25),\n",
    "]\n",
    "\n",
    "api.acquire_multi_channel(\"image2\", channels, 0, 0)"
   ]
  },
  {
   "cell_type": "code",
   "execution_count": 83,
   "metadata": {},
   "outputs": [
    {
     "data": {
      "text/plain": [
       "[{'name': 'image1',\n",
       "  'channel_info': [{'name': 'BF', 'width': 1344, 'height': 1024},\n",
       "   {'name': 'YFP', 'width': 1344, 'height': 1024}],\n",
       "  'n_images': 2,\n",
       "  'n_z': 1,\n",
       "  'n_t': 1},\n",
       " {'name': 'image2',\n",
       "  'channel_info': [{'name': 'BF', 'width': 1344, 'height': 1024},\n",
       "   {'name': 'YFP', 'width': 1344, 'height': 1024},\n",
       "   {'name': 'RFP', 'width': 1344, 'height': 1024}],\n",
       "  'n_images': 3,\n",
       "  'n_z': 1,\n",
       "  'n_t': 1}]"
      ]
     },
     "execution_count": 83,
     "metadata": {},
     "output_type": "execute_result"
    }
   ],
   "source": [
    "api.list_ndimage()"
   ]
  },
  {
   "cell_type": "code",
   "execution_count": 47,
   "metadata": {},
   "outputs": [],
   "source": [
    "class Wellplate384():\n",
    "    def __init__(self, current_well_name):\n",
    "        self.spacing_x = -4500\n",
    "        self.spacing_y = -4500\n",
    "        x, y = api.get_xy_stage_position()\n",
    "        row, col = self.well_name_to_row_col(current_well_name)\n",
    "        self.pos_A1 = ((x - (col - 1) * self.spacing_x), (y - (row - 1) * self.spacing_y))\n",
    "    \n",
    "    def get_current_well(self):\n",
    "        x, y = api.get_xy_stage_position()\n",
    "        col = int(np.round((x - self.pos_A1[0]) / self.spacing_x)) + 1\n",
    "        row = int(np.round((y - self.pos_A1[1]) / self.spacing_y)) + 1\n",
    "        return self.row_col_to_well_name(row, col)\n",
    "    \n",
    "    def get_well_position(self, well_name):\n",
    "        row, col = self.well_name_to_row_col(well_name)\n",
    "        x = self.pos_A1[0] + (col - 1) * self.spacing_x\n",
    "        y = self.pos_A1[1] + (row - 1) * self.spacing_y\n",
    "        return (x, y)\n",
    "        \n",
    "    def well_name_to_row_col(self, well_name):\n",
    "        row = ['A', 'B', 'C', 'D', 'E', 'F', 'G', 'H', 'I', 'J', 'K', 'L', 'M', 'N', 'O', 'P'].index(well_name[0]) + 1\n",
    "        col = int(well_name[1:])\n",
    "        return row, col\n",
    "\n",
    "    def row_col_to_well_name(self, row, col):\n",
    "        row_name = ['A', 'B', 'C', 'D', 'E', 'F', 'G', 'H', 'I', 'J', 'K', 'L', 'M', 'N', 'O', 'P'][row - 1]\n",
    "        col_name = str(col)\n",
    "        return row_name+col_name"
   ]
  },
  {
   "cell_type": "code",
   "execution_count": 50,
   "metadata": {},
   "outputs": [],
   "source": [
    "wp = Wellplate384(current_well_name=\"A1\")"
   ]
  },
  {
   "cell_type": "code",
   "execution_count": 51,
   "metadata": {},
   "outputs": [
    {
     "data": {
      "text/plain": [
       "(51868.4, 36161.3)"
      ]
     },
     "execution_count": 51,
     "metadata": {},
     "output_type": "execute_result"
    }
   ],
   "source": [
    "wp.pos_A1"
   ]
  },
  {
   "cell_type": "code",
   "execution_count": 55,
   "metadata": {},
   "outputs": [],
   "source": [
    "def go_to_position(well, ix, iy):    \n",
    "    x, y = wp.get_well_position(well)\n",
    "    api.set_xy_stage_position(x - 250 * ix, y - 250 * iy)"
   ]
  },
  {
   "cell_type": "code",
   "execution_count": 59,
   "metadata": {},
   "outputs": [],
   "source": [
    "go_to_position(\"A1\", 1, 1)"
   ]
  },
  {
   "cell_type": "code",
   "execution_count": 53,
   "metadata": {},
   "outputs": [],
   "source": [
    "sites = []\n",
    "\n",
    "offset = 'A1'\n",
    "n_col = 3\n",
    "n_row = 2\n",
    "\n",
    "n_site_x = 2\n",
    "n_site_y = 2\n",
    "site_spacing = -250\n",
    "\n",
    "remove_wells = []\n",
    "\n",
    "for row in range(n_row):\n",
    "    col_list = list(range(n_col))\n",
    "    if row % 2 != 0:\n",
    "        col_list.reverse()\n",
    "    \n",
    "    row_offset, col_offset = wp.well_name_to_row_col(offset)\n",
    "    for col in col_list:            \n",
    "        well_name = wp.row_col_to_well_name(row+row_offset, col+col_offset)\n",
    "        well_position = wp.get_well_position(well_name)\n",
    "    \n",
    "        if well_name in remove_wells:\n",
    "            continue\n",
    "        i_site = 0\n",
    "        for i_site_x in range(n_site_x):\n",
    "            i_site_y_list = list(range(n_site_y))\n",
    "            if col % 2 != 0:\n",
    "                i_site_y_list.reverse()\n",
    "                \n",
    "            for i_site_y in i_site_y_list:\n",
    "                site_position_x = well_position[0] + site_spacing * i_site_x\n",
    "                site_position_y = well_position[1] + site_spacing * i_site_y\n",
    "                \n",
    "                sites.append([well_name, i_site, site_position_x, site_position_y])\n",
    "                i_site += 1\n",
    "\n",
    "sites = pd.DataFrame(sites, columns=[\"well\", \"site\", \"x\", \"y\"])"
   ]
  },
  {
   "cell_type": "code",
   "execution_count": 54,
   "metadata": {},
   "outputs": [
    {
     "data": {
      "text/html": [
       "<div>\n",
       "<style scoped>\n",
       "    .dataframe tbody tr th:only-of-type {\n",
       "        vertical-align: middle;\n",
       "    }\n",
       "\n",
       "    .dataframe tbody tr th {\n",
       "        vertical-align: top;\n",
       "    }\n",
       "\n",
       "    .dataframe thead th {\n",
       "        text-align: right;\n",
       "    }\n",
       "</style>\n",
       "<table border=\"1\" class=\"dataframe\">\n",
       "  <thead>\n",
       "    <tr style=\"text-align: right;\">\n",
       "      <th></th>\n",
       "      <th>well</th>\n",
       "      <th>site</th>\n",
       "      <th>x</th>\n",
       "      <th>y</th>\n",
       "    </tr>\n",
       "  </thead>\n",
       "  <tbody>\n",
       "    <tr>\n",
       "      <th>0</th>\n",
       "      <td>A1</td>\n",
       "      <td>0</td>\n",
       "      <td>51868.4</td>\n",
       "      <td>36161.3</td>\n",
       "    </tr>\n",
       "    <tr>\n",
       "      <th>1</th>\n",
       "      <td>A1</td>\n",
       "      <td>1</td>\n",
       "      <td>51868.4</td>\n",
       "      <td>35911.3</td>\n",
       "    </tr>\n",
       "    <tr>\n",
       "      <th>2</th>\n",
       "      <td>A1</td>\n",
       "      <td>2</td>\n",
       "      <td>51618.4</td>\n",
       "      <td>36161.3</td>\n",
       "    </tr>\n",
       "    <tr>\n",
       "      <th>3</th>\n",
       "      <td>A1</td>\n",
       "      <td>3</td>\n",
       "      <td>51618.4</td>\n",
       "      <td>35911.3</td>\n",
       "    </tr>\n",
       "    <tr>\n",
       "      <th>4</th>\n",
       "      <td>A2</td>\n",
       "      <td>0</td>\n",
       "      <td>47368.4</td>\n",
       "      <td>35911.3</td>\n",
       "    </tr>\n",
       "    <tr>\n",
       "      <th>5</th>\n",
       "      <td>A2</td>\n",
       "      <td>1</td>\n",
       "      <td>47368.4</td>\n",
       "      <td>36161.3</td>\n",
       "    </tr>\n",
       "    <tr>\n",
       "      <th>6</th>\n",
       "      <td>A2</td>\n",
       "      <td>2</td>\n",
       "      <td>47118.4</td>\n",
       "      <td>35911.3</td>\n",
       "    </tr>\n",
       "    <tr>\n",
       "      <th>7</th>\n",
       "      <td>A2</td>\n",
       "      <td>3</td>\n",
       "      <td>47118.4</td>\n",
       "      <td>36161.3</td>\n",
       "    </tr>\n",
       "    <tr>\n",
       "      <th>8</th>\n",
       "      <td>A3</td>\n",
       "      <td>0</td>\n",
       "      <td>42868.4</td>\n",
       "      <td>36161.3</td>\n",
       "    </tr>\n",
       "    <tr>\n",
       "      <th>9</th>\n",
       "      <td>A3</td>\n",
       "      <td>1</td>\n",
       "      <td>42868.4</td>\n",
       "      <td>35911.3</td>\n",
       "    </tr>\n",
       "    <tr>\n",
       "      <th>10</th>\n",
       "      <td>A3</td>\n",
       "      <td>2</td>\n",
       "      <td>42618.4</td>\n",
       "      <td>36161.3</td>\n",
       "    </tr>\n",
       "    <tr>\n",
       "      <th>11</th>\n",
       "      <td>A3</td>\n",
       "      <td>3</td>\n",
       "      <td>42618.4</td>\n",
       "      <td>35911.3</td>\n",
       "    </tr>\n",
       "    <tr>\n",
       "      <th>12</th>\n",
       "      <td>B3</td>\n",
       "      <td>0</td>\n",
       "      <td>42868.4</td>\n",
       "      <td>31661.3</td>\n",
       "    </tr>\n",
       "    <tr>\n",
       "      <th>13</th>\n",
       "      <td>B3</td>\n",
       "      <td>1</td>\n",
       "      <td>42868.4</td>\n",
       "      <td>31411.3</td>\n",
       "    </tr>\n",
       "    <tr>\n",
       "      <th>14</th>\n",
       "      <td>B3</td>\n",
       "      <td>2</td>\n",
       "      <td>42618.4</td>\n",
       "      <td>31661.3</td>\n",
       "    </tr>\n",
       "    <tr>\n",
       "      <th>15</th>\n",
       "      <td>B3</td>\n",
       "      <td>3</td>\n",
       "      <td>42618.4</td>\n",
       "      <td>31411.3</td>\n",
       "    </tr>\n",
       "    <tr>\n",
       "      <th>16</th>\n",
       "      <td>B2</td>\n",
       "      <td>0</td>\n",
       "      <td>47368.4</td>\n",
       "      <td>31411.3</td>\n",
       "    </tr>\n",
       "    <tr>\n",
       "      <th>17</th>\n",
       "      <td>B2</td>\n",
       "      <td>1</td>\n",
       "      <td>47368.4</td>\n",
       "      <td>31661.3</td>\n",
       "    </tr>\n",
       "    <tr>\n",
       "      <th>18</th>\n",
       "      <td>B2</td>\n",
       "      <td>2</td>\n",
       "      <td>47118.4</td>\n",
       "      <td>31411.3</td>\n",
       "    </tr>\n",
       "    <tr>\n",
       "      <th>19</th>\n",
       "      <td>B2</td>\n",
       "      <td>3</td>\n",
       "      <td>47118.4</td>\n",
       "      <td>31661.3</td>\n",
       "    </tr>\n",
       "    <tr>\n",
       "      <th>20</th>\n",
       "      <td>B1</td>\n",
       "      <td>0</td>\n",
       "      <td>51868.4</td>\n",
       "      <td>31661.3</td>\n",
       "    </tr>\n",
       "    <tr>\n",
       "      <th>21</th>\n",
       "      <td>B1</td>\n",
       "      <td>1</td>\n",
       "      <td>51868.4</td>\n",
       "      <td>31411.3</td>\n",
       "    </tr>\n",
       "    <tr>\n",
       "      <th>22</th>\n",
       "      <td>B1</td>\n",
       "      <td>2</td>\n",
       "      <td>51618.4</td>\n",
       "      <td>31661.3</td>\n",
       "    </tr>\n",
       "    <tr>\n",
       "      <th>23</th>\n",
       "      <td>B1</td>\n",
       "      <td>3</td>\n",
       "      <td>51618.4</td>\n",
       "      <td>31411.3</td>\n",
       "    </tr>\n",
       "  </tbody>\n",
       "</table>\n",
       "</div>"
      ],
      "text/plain": [
       "   well  site        x        y\n",
       "0    A1     0  51868.4  36161.3\n",
       "1    A1     1  51868.4  35911.3\n",
       "2    A1     2  51618.4  36161.3\n",
       "3    A1     3  51618.4  35911.3\n",
       "4    A2     0  47368.4  35911.3\n",
       "5    A2     1  47368.4  36161.3\n",
       "6    A2     2  47118.4  35911.3\n",
       "7    A2     3  47118.4  36161.3\n",
       "8    A3     0  42868.4  36161.3\n",
       "9    A3     1  42868.4  35911.3\n",
       "10   A3     2  42618.4  36161.3\n",
       "11   A3     3  42618.4  35911.3\n",
       "12   B3     0  42868.4  31661.3\n",
       "13   B3     1  42868.4  31411.3\n",
       "14   B3     2  42618.4  31661.3\n",
       "15   B3     3  42618.4  31411.3\n",
       "16   B2     0  47368.4  31411.3\n",
       "17   B2     1  47368.4  31661.3\n",
       "18   B2     2  47118.4  31411.3\n",
       "19   B2     3  47118.4  31661.3\n",
       "20   B1     0  51868.4  31661.3\n",
       "21   B1     1  51868.4  31411.3\n",
       "22   B1     2  51618.4  31661.3\n",
       "23   B1     3  51618.4  31411.3"
      ]
     },
     "execution_count": 54,
     "metadata": {},
     "output_type": "execute_result"
    }
   ],
   "source": [
    "sites"
   ]
  },
  {
   "cell_type": "code",
   "execution_count": 74,
   "metadata": {},
   "outputs": [],
   "source": [
    "def search_focus_range(z_range, z_step_size, z_center, z_max_safety=None):\n",
    "    try:\n",
    "        api.enable_pfs()\n",
    "    except RuntimeError:\n",
    "        n_steps = math.ceil(z_range / z_step_size)\n",
    "        z_min = z_center - (n_steps / 2) * z_step_size\n",
    "        z_max = z_center + (n_steps / 2) * z_step_size\n",
    "        if z_max_safety and (z_max > z_max_safety):\n",
    "            z_max = z_max_safety\n",
    "        if z_max_safety and (z_min > z_max_safety):\n",
    "            raise ValueError(\"z_min= {}, higher than z_max_safety ={}\".format(z_min, z_max_safety))\n",
    "        n_steps = math.ceil((z_max - z_min) / z_step_size)\n",
    "        z_list = list(np.linspace(z_min, z_max, n_steps))\n",
    "        z_list.reverse()\n",
    "        for z_pos in z_list:\n",
    "            print(\"set z={}\".format(z_pos))\n",
    "            api.set_z_stage_position(z_pos)\n",
    "            api.wait_z_stage()\n",
    "            try:\n",
    "                api.enable_pfs()\n",
    "                return\n",
    "            except:\n",
    "                continue\n",
    "        raise RuntimeError(\"Focus search failed\")\n",
    "\n",
    "def find_focus():\n",
    "    try:\n",
    "        api.enable_pfs()\n",
    "        return\n",
    "    except RuntimeError:\n",
    "        pass\n",
    "\n",
    "    z_initial = api.get_z_stage_position()\n",
    "    z_max_safety = None\n",
    "\n",
    "    try:\n",
    "        print(\"search focus within 30 um:\")\n",
    "        search_focus_range(30, 5, z_initial, z_max_safety)\n",
    "        print(\"focus found\")\n",
    "        return\n",
    "    except RuntimeError:\n",
    "        pass\n",
    "\n",
    "    try:\n",
    "        print(\"search focus within 75 um:\")\n",
    "        search_focus_range(75, 5, z_initial, z_max_safety)\n",
    "        print(\"focus found\")\n",
    "        return\n",
    "    except RuntimeError:\n",
    "        pass\n",
    "\n",
    "    try:\n",
    "        print(\"search focus within 150 um:\")\n",
    "        search_focus_range(150, 5, z_initial, z_max_safety)\n",
    "        print(\"focus found\")\n",
    "    except RuntimeError:\n",
    "        print(\"failed: go back to z={}\".format(z_initial))\n",
    "        api.set_z_stage_position(z_initial)\n",
    "        api.wait_z_stage()\n",
    "        return"
   ]
  },
  {
   "cell_type": "code",
   "execution_count": 75,
   "metadata": {},
   "outputs": [],
   "source": [
    "channels = [\n",
    "    (\"BF\", 25),\n",
    "    (\"YFP\", 50, 40),\n",
    "]\n",
    "\n",
    "def image_sites(site_list, seq_no=0):\n",
    "    for (i, s) in site_list.iterrows():\n",
    "        display.display(\"%d/%d. Well %s. Site %s. Position: (%.1f, %.1f).\" % (i, len(sites), s.well, s.site, s.x, s.y))\n",
    "        api.set_xy_stage_position(s.x, s.y)\n",
    "        api.wait_xy_stage()\n",
    "        find_focus()\n",
    "        \n",
    "        imname = \"%s-%03d\" % (s.well, s.site)\n",
    "        api.acquire_multi_channel(imname, channels, 0, seq_no)"
   ]
  },
  {
   "cell_type": "code",
   "execution_count": 77,
   "metadata": {},
   "outputs": [
    {
     "data": {
      "text/plain": [
       "'0/24. Well A1. Site 0. Position: (51868.4, 36161.3).'"
      ]
     },
     "metadata": {},
     "output_type": "display_data"
    },
    {
     "name": "stdout",
     "output_type": "stream",
     "text": [
      "search focus within 30 um:\n",
      "set z=2799.1\n",
      "set z=2793.1\n",
      "set z=2787.1\n",
      "set z=2781.1\n",
      "set z=2775.1\n",
      "set z=2769.1\n",
      "search focus within 75 um:\n",
      "set z=2821.6\n",
      "set z=2816.2428571428572\n",
      "set z=2810.885714285714\n",
      "set z=2805.5285714285715\n",
      "set z=2800.1714285714284\n",
      "set z=2794.8142857142857\n",
      "set z=2789.4571428571426\n",
      "set z=2784.1\n",
      "set z=2778.7428571428572\n",
      "set z=2773.385714285714\n",
      "set z=2768.0285714285715\n",
      "set z=2762.6714285714284\n",
      "set z=2757.3142857142857\n",
      "set z=2751.9571428571426\n",
      "focus found\n"
     ]
    },
    {
     "data": {
      "text/plain": [
       "'1/24. Well A1. Site 1. Position: (51868.4, 35911.3).'"
      ]
     },
     "metadata": {},
     "output_type": "display_data"
    },
    {
     "data": {
      "text/plain": [
       "'2/24. Well A1. Site 2. Position: (51618.4, 36161.3).'"
      ]
     },
     "metadata": {},
     "output_type": "display_data"
    },
    {
     "data": {
      "text/plain": [
       "'3/24. Well A1. Site 3. Position: (51618.4, 35911.3).'"
      ]
     },
     "metadata": {},
     "output_type": "display_data"
    },
    {
     "data": {
      "text/plain": [
       "'4/24. Well A2. Site 0. Position: (47368.4, 35911.3).'"
      ]
     },
     "metadata": {},
     "output_type": "display_data"
    },
    {
     "data": {
      "text/plain": [
       "'5/24. Well A2. Site 1. Position: (47368.4, 36161.3).'"
      ]
     },
     "metadata": {},
     "output_type": "display_data"
    },
    {
     "data": {
      "text/plain": [
       "'6/24. Well A2. Site 2. Position: (47118.4, 35911.3).'"
      ]
     },
     "metadata": {},
     "output_type": "display_data"
    },
    {
     "data": {
      "text/plain": [
       "'7/24. Well A2. Site 3. Position: (47118.4, 36161.3).'"
      ]
     },
     "metadata": {},
     "output_type": "display_data"
    },
    {
     "data": {
      "text/plain": [
       "'8/24. Well A3. Site 0. Position: (42868.4, 36161.3).'"
      ]
     },
     "metadata": {},
     "output_type": "display_data"
    },
    {
     "data": {
      "text/plain": [
       "'9/24. Well A3. Site 1. Position: (42868.4, 35911.3).'"
      ]
     },
     "metadata": {},
     "output_type": "display_data"
    },
    {
     "data": {
      "text/plain": [
       "'10/24. Well A3. Site 2. Position: (42618.4, 36161.3).'"
      ]
     },
     "metadata": {},
     "output_type": "display_data"
    },
    {
     "data": {
      "text/plain": [
       "'11/24. Well A3. Site 3. Position: (42618.4, 35911.3).'"
      ]
     },
     "metadata": {},
     "output_type": "display_data"
    },
    {
     "data": {
      "text/plain": [
       "'12/24. Well B3. Site 0. Position: (42868.4, 31661.3).'"
      ]
     },
     "metadata": {},
     "output_type": "display_data"
    },
    {
     "ename": "KeyboardInterrupt",
     "evalue": "",
     "output_type": "error",
     "traceback": [
      "\u001b[1;31m---------------------------------------------------------------------------\u001b[0m",
      "\u001b[1;31mKeyboardInterrupt\u001b[0m                         Traceback (most recent call last)",
      "\u001b[1;32m<ipython-input-77-29efd2950be5>\u001b[0m in \u001b[0;36m<module>\u001b[1;34m\u001b[0m\n\u001b[1;32m----> 1\u001b[1;33m \u001b[0mimage_sites\u001b[0m\u001b[1;33m(\u001b[0m\u001b[0msites\u001b[0m\u001b[1;33m)\u001b[0m\u001b[1;33m\u001b[0m\u001b[1;33m\u001b[0m\u001b[0m\n\u001b[0m",
      "\u001b[1;32m<ipython-input-75-09315a6172a3>\u001b[0m in \u001b[0;36mimage_sites\u001b[1;34m(site_list, seq_no)\u001b[0m\n\u001b[0;32m     12\u001b[0m \u001b[1;33m\u001b[0m\u001b[0m\n\u001b[0;32m     13\u001b[0m         \u001b[0mimname\u001b[0m \u001b[1;33m=\u001b[0m \u001b[1;34m\"%s-%03d\"\u001b[0m \u001b[1;33m%\u001b[0m \u001b[1;33m(\u001b[0m\u001b[0ms\u001b[0m\u001b[1;33m.\u001b[0m\u001b[0mwell\u001b[0m\u001b[1;33m,\u001b[0m \u001b[0ms\u001b[0m\u001b[1;33m.\u001b[0m\u001b[0msite\u001b[0m\u001b[1;33m)\u001b[0m\u001b[1;33m\u001b[0m\u001b[1;33m\u001b[0m\u001b[0m\n\u001b[1;32m---> 14\u001b[1;33m         \u001b[0mapi\u001b[0m\u001b[1;33m.\u001b[0m\u001b[0macquire_multi_channel\u001b[0m\u001b[1;33m(\u001b[0m\u001b[0mimname\u001b[0m\u001b[1;33m,\u001b[0m \u001b[0mchannels\u001b[0m\u001b[1;33m,\u001b[0m \u001b[1;36m0\u001b[0m\u001b[1;33m,\u001b[0m \u001b[0mseq_no\u001b[0m\u001b[1;33m)\u001b[0m\u001b[1;33m\u001b[0m\u001b[1;33m\u001b[0m\u001b[0m\n\u001b[0m",
      "\u001b[1;32mc:\\Users\\Ang\\Developer\\Projects\\NikonTiControl\\examples\\../python\\api.py\u001b[0m in \u001b[0;36macquire_multi_channel\u001b[1;34m(ndimage_name, channels, i_z, i_t, metadata)\u001b[0m\n\u001b[0;32m     82\u001b[0m             \u001b[0mreq\u001b[0m\u001b[1;33m.\u001b[0m\u001b[0mmetadata\u001b[0m\u001b[1;33m[\u001b[0m\u001b[0mkey\u001b[0m\u001b[1;33m]\u001b[0m \u001b[1;33m=\u001b[0m \u001b[0mvalue\u001b[0m\u001b[1;33m\u001b[0m\u001b[1;33m\u001b[0m\u001b[0m\n\u001b[0;32m     83\u001b[0m \u001b[1;33m\u001b[0m\u001b[0m\n\u001b[1;32m---> 84\u001b[1;33m     \u001b[0mstub\u001b[0m\u001b[1;33m.\u001b[0m\u001b[0mAcquireMultiChannel\u001b[0m\u001b[1;33m(\u001b[0m\u001b[0mreq\u001b[0m\u001b[1;33m)\u001b[0m\u001b[1;33m\u001b[0m\u001b[1;33m\u001b[0m\u001b[0m\n\u001b[0m\u001b[0;32m     85\u001b[0m \u001b[1;33m\u001b[0m\u001b[0m\n\u001b[0;32m     86\u001b[0m \u001b[1;33m\u001b[0m\u001b[0m\n",
      "\u001b[1;32mC:\\ProgramData\\Miniconda3-1\\lib\\site-packages\\grpc\\_channel.py\u001b[0m in \u001b[0;36m__call__\u001b[1;34m(self, request, timeout, metadata, credentials, wait_for_ready, compression)\u001b[0m\n\u001b[0;32m    919\u001b[0m                  \u001b[0mwait_for_ready\u001b[0m\u001b[1;33m=\u001b[0m\u001b[1;32mNone\u001b[0m\u001b[1;33m,\u001b[0m\u001b[1;33m\u001b[0m\u001b[1;33m\u001b[0m\u001b[0m\n\u001b[0;32m    920\u001b[0m                  compression=None):\n\u001b[1;32m--> 921\u001b[1;33m         state, call, = self._blocking(request, timeout, metadata, credentials,\n\u001b[0m\u001b[0;32m    922\u001b[0m                                       wait_for_ready, compression)\n\u001b[0;32m    923\u001b[0m         \u001b[1;32mreturn\u001b[0m \u001b[0m_end_unary_response_blocking\u001b[0m\u001b[1;33m(\u001b[0m\u001b[0mstate\u001b[0m\u001b[1;33m,\u001b[0m \u001b[0mcall\u001b[0m\u001b[1;33m,\u001b[0m \u001b[1;32mFalse\u001b[0m\u001b[1;33m,\u001b[0m \u001b[1;32mNone\u001b[0m\u001b[1;33m)\u001b[0m\u001b[1;33m\u001b[0m\u001b[1;33m\u001b[0m\u001b[0m\n",
      "\u001b[1;32mC:\\ProgramData\\Miniconda3-1\\lib\\site-packages\\grpc\\_channel.py\u001b[0m in \u001b[0;36m_blocking\u001b[1;34m(self, request, timeout, metadata, credentials, wait_for_ready, compression)\u001b[0m\n\u001b[0;32m    908\u001b[0m                     \u001b[1;32mNone\u001b[0m\u001b[1;33m,\u001b[0m\u001b[1;33m\u001b[0m\u001b[1;33m\u001b[0m\u001b[0m\n\u001b[0;32m    909\u001b[0m                 ),), self._context)\n\u001b[1;32m--> 910\u001b[1;33m             \u001b[0mevent\u001b[0m \u001b[1;33m=\u001b[0m \u001b[0mcall\u001b[0m\u001b[1;33m.\u001b[0m\u001b[0mnext_event\u001b[0m\u001b[1;33m(\u001b[0m\u001b[1;33m)\u001b[0m\u001b[1;33m\u001b[0m\u001b[1;33m\u001b[0m\u001b[0m\n\u001b[0m\u001b[0;32m    911\u001b[0m             \u001b[0m_handle_event\u001b[0m\u001b[1;33m(\u001b[0m\u001b[0mevent\u001b[0m\u001b[1;33m,\u001b[0m \u001b[0mstate\u001b[0m\u001b[1;33m,\u001b[0m \u001b[0mself\u001b[0m\u001b[1;33m.\u001b[0m\u001b[0m_response_deserializer\u001b[0m\u001b[1;33m)\u001b[0m\u001b[1;33m\u001b[0m\u001b[1;33m\u001b[0m\u001b[0m\n\u001b[0;32m    912\u001b[0m             \u001b[1;32mreturn\u001b[0m \u001b[0mstate\u001b[0m\u001b[1;33m,\u001b[0m \u001b[0mcall\u001b[0m\u001b[1;33m\u001b[0m\u001b[1;33m\u001b[0m\u001b[0m\n",
      "\u001b[1;32msrc\\python\\grpcio\\grpc\\_cython\\_cygrpc/channel.pyx.pxi\u001b[0m in \u001b[0;36mgrpc._cython.cygrpc.SegregatedCall.next_event\u001b[1;34m()\u001b[0m\n",
      "\u001b[1;32msrc\\python\\grpcio\\grpc\\_cython\\_cygrpc/channel.pyx.pxi\u001b[0m in \u001b[0;36mgrpc._cython.cygrpc._next_call_event\u001b[1;34m()\u001b[0m\n",
      "\u001b[1;32msrc\\python\\grpcio\\grpc\\_cython\\_cygrpc/channel.pyx.pxi\u001b[0m in \u001b[0;36mgrpc._cython.cygrpc._next_call_event\u001b[1;34m()\u001b[0m\n",
      "\u001b[1;32msrc\\python\\grpcio\\grpc\\_cython\\_cygrpc/completion_queue.pyx.pxi\u001b[0m in \u001b[0;36mgrpc._cython.cygrpc._latent_event\u001b[1;34m()\u001b[0m\n",
      "\u001b[1;32msrc\\python\\grpcio\\grpc\\_cython\\_cygrpc/completion_queue.pyx.pxi\u001b[0m in \u001b[0;36mgrpc._cython.cygrpc._next\u001b[1;34m()\u001b[0m\n",
      "\u001b[1;31mKeyboardInterrupt\u001b[0m: "
     ]
    }
   ],
   "source": [
    "image_sites(sites)"
   ]
  },
  {
   "cell_type": "code",
   "execution_count": null,
   "metadata": {},
   "outputs": [],
   "source": []
  }
 ],
 "metadata": {
  "interpreter": {
   "hash": "8fba34bf3fd6fab1300a3389a7e687645b9ae9a511fd7594b2b325296254e7f9"
  },
  "kernelspec": {
   "display_name": "Python 3.8.10 64-bit ('base': conda)",
   "language": "python",
   "name": "python3"
  },
  "language_info": {
   "codemirror_mode": {
    "name": "ipython",
    "version": 3
   },
   "file_extension": ".py",
   "mimetype": "text/x-python",
   "name": "python",
   "nbconvert_exporter": "python",
   "pygments_lexer": "ipython3",
   "version": "3.8.12"
  },
  "orig_nbformat": 4
 },
 "nbformat": 4,
 "nbformat_minor": 2
}
